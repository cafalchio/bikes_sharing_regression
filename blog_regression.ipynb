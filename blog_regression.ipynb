{
 "cells": [
  {
   "cell_type": "markdown",
   "metadata": {},
   "source": [
    "# Predicting quantity of users using shared bikes\n",
    "\n",
    "## Introduction\n",
    "\n",
    "**Bike sharing is a recent trend that spread fast around the world.  It has a control system that gives an user a bike access for a determined time slot. The user get the bike and return to the same spot within the time slot. There are many advantages to go by bike, not only for reducing the traffick and poluition but also to get a healthier population. To the companies, it is indispensible to understand the users behaviour and manage their bikes to be always avaliable.** \n",
    "\n",
    "\n",
    "![title](img/why-you-use-ride-sharing-bike-service.jpg)\n",
    "\n",
    "\n",
    "## Businnes problem: \n",
    "### Predict the number of bike rental per day based on the environmental and seasonal data\n",
    "----------------------------------------------------------------------------------------------------"
   ]
  },
  {
   "cell_type": "markdown",
   "metadata": {},
   "source": [
    "## Understanding the dataset\n",
    "\n",
    "**This dataset was kindly shared by Hadi Fanaee-T from \n",
    "Laboratory of Artificial Intelligence and Decision Support (LIAAD), University of Port**\n",
    "\n",
    "**It was sampled both by day and by hour (file1 and file2**\n",
    "\n",
    "- instant: record index\n",
    "\t- dteday : date\n",
    "\t- season : season (1:springer, 2:summer, 3:fall, 4:winter)\n",
    "\t- yr : year (0: 2011, 1:2012)\n",
    "\t- mnth : month ( 1 to 12)\n",
    "\t- hr : hour (0 to 23)\n",
    "\t- holiday : weather day is holiday or not (extracted from http://dchr.dc.gov/page/holiday-schedule)\n",
    "\t- weekday : day of the week\n",
    "\t- workingday : if day is neither weekend nor holiday is 1, otherwise is 0.\n",
    "\t+ weathersit : \n",
    "\t\t- 1: Clear, Few clouds, Partly cloudy, Partly cloudy\n",
    "\t\t- 2: Mist + Cloudy, Mist + Broken clouds, Mist + Few clouds, Mist\n",
    "\t\t- 3: Light Snow, Light Rain + Thunderstorm + Scattered clouds, Light Rain + Scattered clouds\n",
    "\t\t- 4: Heavy Rain + Ice Pallets + Thunderstorm + Mist, Snow + Fog\n",
    "\t- temp : Normalized temperature in Celsius. The values are divided to 41 (max)\n",
    "\t- atemp: Normalized feeling temperature in Celsius. The values are divided to 50 (max)\n",
    "\t- hum: Normalized humidity. The values are divided to 100 (max)\n",
    "\t- windspeed: Normalized wind speed. The values are divided to 67 (max)\n",
    "\t- casual and registered: - both removed from the dataset because the sum is the total of counts\n",
    "\t- cnt: count of total rental bikes including both casual and registered"
   ]
  },
  {
   "cell_type": "markdown",
   "metadata": {},
   "source": [
    "**Importing libraries**"
   ]
  },
  {
   "cell_type": "code",
   "execution_count": 1,
   "metadata": {},
   "outputs": [],
   "source": [
    "import numpy as np\n",
    "import pandas as pd\n",
    "import matplotlib.pyplot as plt\n",
    "from sklearn.linear_model import LinearRegression\n",
    "from sklearn.model_selection import train_test_split\n",
    "from sklearn.metrics import r2_score, mean_squared_error\n",
    "from sklearn.preprocessing import Normalizer, OrdinalEncoder\n",
    "import itertools as it\n",
    "from tqdm import tqdm\n",
    "import seaborn as sns\n",
    "import datetime as dt\n",
    "import math\n",
    "import torch\n",
    "\n",
    "%matplotlib inline"
   ]
  },
  {
   "cell_type": "code",
   "execution_count": 2,
   "metadata": {},
   "outputs": [],
   "source": [
    "file1 = '/mnt/c/Users/Cafalchio/Documents/Bike-Sharing-Dataset/bikes_day.csv'\n",
    "# file1 it was the same data but sampled daily\n",
    "file2= '/mnt/c/Users/Cafalchio/Documents/Bike-Sharing-Dataset/hour.csv'\n",
    "# file2 was sampled by hour"
   ]
  },
  {
   "cell_type": "code",
   "execution_count": 3,
   "metadata": {},
   "outputs": [],
   "source": [
    "class Data:\n",
    "    ''' Class to open and explore the dataset and create a baseline model'''\n",
    "    def __init__(self, file, target='cnt'):\n",
    "        try:\n",
    "            self.df = pd.read_csv(file)\n",
    "        except:\n",
    "            print('Could not read CSV file')\n",
    "        self.df['date'] = pd.to_datetime(self.df['dteday'])\n",
    "        self.df['date'] = self.df['date'].map(dt.datetime.toordinal)\n",
    "        self.df['date'] = (self.df['date']-self.df.date.min())/(self.df.date.max()-self.df.date.min())\n",
    "        self.df.drop(['dteday', 'instant'], axis=1, inplace=True)\n",
    "        self.target = target\n",
    "    \n",
    "#     def change_category(self):\n",
    "#         ''' Method used to change features to categorical\n",
    "#             it had no effect on the analysis and was commented\n",
    "#         '''\n",
    "#         c = self.df.select_dtypes(np.integer).columns\n",
    "#         self.df[c] = self.df[c].astype('category')\n",
    "    \n",
    "    def drop(self, col):\n",
    "        ''' Class that drop the column col from the dataframe''' \n",
    "        self.df.drop(col, axis=1, inplace=True)\n",
    "    \n",
    "    def plot_correlation(self):\n",
    "        ''' PLot the correlation matrix from of the dataframe'''\n",
    "        corrMatrix = self.df.corr()\n",
    "        plt.figure(figsize=(10, 8))\n",
    "        sns.heatmap(corrMatrix, annot=False,  linewidths=1)\n",
    "        plt.show()\n",
    "        \n",
    "    def summary(self, n=5):\n",
    "        ''' A Formated summary of the dataframe'''\n",
    "        \n",
    "        print('-------------- Information about the data ---------------------\\n')\n",
    "        print(self.df.info())\n",
    "        print('\\n----------------------- Data types ----------------------------\\n')\n",
    "        print(self.df.dtypes)\n",
    "        print('\\n--------------------- Data describe ---------------------------\\n')\n",
    "        print(self.df.describe())\n",
    "        print('\\n----------------------- Data head -----------------------------\\n')\n",
    "        return(self.df.head())\n",
    "    \n",
    "    def split_data(self, size=.33):\n",
    "        ''' Method that splits the data into train and validation\n",
    "        Input: the size of the validation data\n",
    "        Output: X_train, X_val, y_train, y_val (numpy values)\n",
    "        '''\n",
    "        y = self.df[self.target]\n",
    "        X = self.df.drop(self.target, axis=1)\n",
    "        return train_test_split(X.values, y.values, test_size=.25, random_state=42)\n",
    "    \n",
    "    def get_baseline_linear(self):\n",
    "        '''Runs linear models with all combinations of columns and print best 3 combinations\n",
    "        Input: data, target, test_size\n",
    "        Output: Columns and r^2 of the best model\n",
    "        '''\n",
    "        temp = []\n",
    "        col = []\n",
    "        scores = []\n",
    "        y = self.df[self.target]\n",
    "        columns = self.df.drop(self.target, axis=1).columns\n",
    "        for i in tqdm(range(1, len(columns)-1)):\n",
    "            for x in it.combinations(columns, i):\n",
    "                X = self.df[list(x)]\n",
    "                col.append(x)\n",
    "                ##Run the model\n",
    "                X_train, X_test, y_train, y_test = train_test_split(X.values, y.values, test_size=.25, random_state=42)\n",
    "                model = LinearRegression().fit(X_train, y_train)\n",
    "                y_true = model.predict(X_test)\n",
    "                res = r2_score(y_true, y_test)\n",
    "                ##Save scores\n",
    "                scores.append(res)\n",
    "        ## print 3 best combinations\n",
    "        for key, value in zip(col, scores):\n",
    "            if value in sorted(scores)[-1:]:\n",
    "                print(f'{key} \\t {value:.7f}:\\n')  \n",
    "                \n",
    "    def embbeded_time(self):\n",
    "        ''' Was used to transform the dteday but had no effect on the model\n",
    "        and was commented'''\n",
    "        self.df.date = self.df.date-self.df.date.min()"
   ]
  },
  {
   "cell_type": "code",
   "execution_count": 4,
   "metadata": {},
   "outputs": [],
   "source": [
    "data = Data(file1)"
   ]
  },
  {
   "cell_type": "code",
   "execution_count": 5,
   "metadata": {},
   "outputs": [
    {
     "name": "stdout",
     "output_type": "stream",
     "text": [
      "-------------- Information about the data ---------------------\n",
      "\n",
      "<class 'pandas.core.frame.DataFrame'>\n",
      "RangeIndex: 731 entries, 0 to 730\n",
      "Data columns (total 13 columns):\n",
      " #   Column      Non-Null Count  Dtype  \n",
      "---  ------      --------------  -----  \n",
      " 0   season      731 non-null    int64  \n",
      " 1   yr          731 non-null    int64  \n",
      " 2   mnth        731 non-null    int64  \n",
      " 3   holiday     731 non-null    int64  \n",
      " 4   weekday     731 non-null    int64  \n",
      " 5   workingday  731 non-null    int64  \n",
      " 6   weathersit  731 non-null    int64  \n",
      " 7   temp        731 non-null    float64\n",
      " 8   atemp       731 non-null    float64\n",
      " 9   hum         731 non-null    float64\n",
      " 10  windspeed   731 non-null    float64\n",
      " 11  cnt         731 non-null    int64  \n",
      " 12  date        731 non-null    float64\n",
      "dtypes: float64(5), int64(8)\n",
      "memory usage: 74.4 KB\n",
      "None\n",
      "\n",
      "----------------------- Data types ----------------------------\n",
      "\n",
      "season          int64\n",
      "yr              int64\n",
      "mnth            int64\n",
      "holiday         int64\n",
      "weekday         int64\n",
      "workingday      int64\n",
      "weathersit      int64\n",
      "temp          float64\n",
      "atemp         float64\n",
      "hum           float64\n",
      "windspeed     float64\n",
      "cnt             int64\n",
      "date          float64\n",
      "dtype: object\n",
      "\n",
      "--------------------- Data describe ---------------------------\n",
      "\n",
      "           season          yr        mnth     holiday     weekday  workingday  \\\n",
      "count  731.000000  731.000000  731.000000  731.000000  731.000000  731.000000   \n",
      "mean     2.496580    0.500684    6.519836    0.028728    2.997264    0.683995   \n",
      "std      1.110807    0.500342    3.451913    0.167155    2.004787    0.465233   \n",
      "min      1.000000    0.000000    1.000000    0.000000    0.000000    0.000000   \n",
      "25%      2.000000    0.000000    4.000000    0.000000    1.000000    0.000000   \n",
      "50%      3.000000    1.000000    7.000000    0.000000    3.000000    1.000000   \n",
      "75%      3.000000    1.000000   10.000000    0.000000    5.000000    1.000000   \n",
      "max      4.000000    1.000000   12.000000    1.000000    6.000000    1.000000   \n",
      "\n",
      "       weathersit        temp       atemp         hum   windspeed  \\\n",
      "count  731.000000  731.000000  731.000000  731.000000  731.000000   \n",
      "mean     1.395349    0.495385    0.474354    0.627894    0.190486   \n",
      "std      0.544894    0.183051    0.162961    0.142429    0.077498   \n",
      "min      1.000000    0.059130    0.079070    0.000000    0.022392   \n",
      "25%      1.000000    0.337083    0.337842    0.520000    0.134950   \n",
      "50%      1.000000    0.498333    0.486733    0.626667    0.180975   \n",
      "75%      2.000000    0.655417    0.608602    0.730209    0.233214   \n",
      "max      3.000000    0.861667    0.840896    0.972500    0.507463   \n",
      "\n",
      "               cnt        date  \n",
      "count   731.000000  731.000000  \n",
      "mean   4504.348837    0.500000  \n",
      "std    1937.211452    0.289268  \n",
      "min      22.000000    0.000000  \n",
      "25%    3152.000000    0.250000  \n",
      "50%    4548.000000    0.500000  \n",
      "75%    5956.000000    0.750000  \n",
      "max    8714.000000    1.000000  \n",
      "\n",
      "----------------------- Data head -----------------------------\n",
      "\n"
     ]
    },
    {
     "data": {
      "text/html": [
       "<div>\n",
       "<style scoped>\n",
       "    .dataframe tbody tr th:only-of-type {\n",
       "        vertical-align: middle;\n",
       "    }\n",
       "\n",
       "    .dataframe tbody tr th {\n",
       "        vertical-align: top;\n",
       "    }\n",
       "\n",
       "    .dataframe thead th {\n",
       "        text-align: right;\n",
       "    }\n",
       "</style>\n",
       "<table border=\"1\" class=\"dataframe\">\n",
       "  <thead>\n",
       "    <tr style=\"text-align: right;\">\n",
       "      <th></th>\n",
       "      <th>season</th>\n",
       "      <th>yr</th>\n",
       "      <th>mnth</th>\n",
       "      <th>holiday</th>\n",
       "      <th>weekday</th>\n",
       "      <th>workingday</th>\n",
       "      <th>weathersit</th>\n",
       "      <th>temp</th>\n",
       "      <th>atemp</th>\n",
       "      <th>hum</th>\n",
       "      <th>windspeed</th>\n",
       "      <th>cnt</th>\n",
       "      <th>date</th>\n",
       "    </tr>\n",
       "  </thead>\n",
       "  <tbody>\n",
       "    <tr>\n",
       "      <th>0</th>\n",
       "      <td>1</td>\n",
       "      <td>0</td>\n",
       "      <td>1</td>\n",
       "      <td>0</td>\n",
       "      <td>6</td>\n",
       "      <td>0</td>\n",
       "      <td>2</td>\n",
       "      <td>0.344167</td>\n",
       "      <td>0.363625</td>\n",
       "      <td>0.805833</td>\n",
       "      <td>0.160446</td>\n",
       "      <td>985</td>\n",
       "      <td>0.000000</td>\n",
       "    </tr>\n",
       "    <tr>\n",
       "      <th>1</th>\n",
       "      <td>1</td>\n",
       "      <td>0</td>\n",
       "      <td>1</td>\n",
       "      <td>0</td>\n",
       "      <td>0</td>\n",
       "      <td>0</td>\n",
       "      <td>2</td>\n",
       "      <td>0.363478</td>\n",
       "      <td>0.353739</td>\n",
       "      <td>0.696087</td>\n",
       "      <td>0.248539</td>\n",
       "      <td>801</td>\n",
       "      <td>0.042466</td>\n",
       "    </tr>\n",
       "    <tr>\n",
       "      <th>2</th>\n",
       "      <td>1</td>\n",
       "      <td>0</td>\n",
       "      <td>1</td>\n",
       "      <td>0</td>\n",
       "      <td>1</td>\n",
       "      <td>1</td>\n",
       "      <td>1</td>\n",
       "      <td>0.196364</td>\n",
       "      <td>0.189405</td>\n",
       "      <td>0.437273</td>\n",
       "      <td>0.248309</td>\n",
       "      <td>1349</td>\n",
       "      <td>0.080822</td>\n",
       "    </tr>\n",
       "    <tr>\n",
       "      <th>3</th>\n",
       "      <td>1</td>\n",
       "      <td>0</td>\n",
       "      <td>1</td>\n",
       "      <td>0</td>\n",
       "      <td>2</td>\n",
       "      <td>1</td>\n",
       "      <td>1</td>\n",
       "      <td>0.200000</td>\n",
       "      <td>0.212122</td>\n",
       "      <td>0.590435</td>\n",
       "      <td>0.160296</td>\n",
       "      <td>1562</td>\n",
       "      <td>0.123288</td>\n",
       "    </tr>\n",
       "    <tr>\n",
       "      <th>4</th>\n",
       "      <td>1</td>\n",
       "      <td>0</td>\n",
       "      <td>1</td>\n",
       "      <td>0</td>\n",
       "      <td>3</td>\n",
       "      <td>1</td>\n",
       "      <td>1</td>\n",
       "      <td>0.226957</td>\n",
       "      <td>0.229270</td>\n",
       "      <td>0.436957</td>\n",
       "      <td>0.186900</td>\n",
       "      <td>1600</td>\n",
       "      <td>0.164384</td>\n",
       "    </tr>\n",
       "  </tbody>\n",
       "</table>\n",
       "</div>"
      ],
      "text/plain": [
       "   season  yr  mnth  holiday  weekday  workingday  weathersit      temp  \\\n",
       "0       1   0     1        0        6           0           2  0.344167   \n",
       "1       1   0     1        0        0           0           2  0.363478   \n",
       "2       1   0     1        0        1           1           1  0.196364   \n",
       "3       1   0     1        0        2           1           1  0.200000   \n",
       "4       1   0     1        0        3           1           1  0.226957   \n",
       "\n",
       "      atemp       hum  windspeed   cnt      date  \n",
       "0  0.363625  0.805833   0.160446   985  0.000000  \n",
       "1  0.353739  0.696087   0.248539   801  0.042466  \n",
       "2  0.189405  0.437273   0.248309  1349  0.080822  \n",
       "3  0.212122  0.590435   0.160296  1562  0.123288  \n",
       "4  0.229270  0.436957   0.186900  1600  0.164384  "
      ]
     },
     "execution_count": 5,
     "metadata": {},
     "output_type": "execute_result"
    }
   ],
   "source": [
    "data.summary()"
   ]
  },
  {
   "cell_type": "markdown",
   "metadata": {},
   "source": [
    "**There is no missing values in the data , which is great. The dteday have been already being divided into weekdays, workinday, season, year and month. Which has much more information than the date itself. For this reason, the dteday will be removed. But before that, lets have a look into the cross-correlation matrix.**"
   ]
  },
  {
   "cell_type": "code",
   "execution_count": 6,
   "metadata": {},
   "outputs": [
    {
     "data": {
      "image/png": "[encoded data removed]",
      "text/plain": [
       "<Figure size 720x576 with 2 Axes>"
      ]
     },
     "metadata": {
      "needs_background": "light"
     },
     "output_type": "display_data"
    }
   ],
   "source": [
    "data.plot_correlation()"
   ]
  },
  {
   "cell_type": "markdown",
   "metadata": {},
   "source": [
    "**In the first version of the code, I was removing columns that were high correlated with others and testing the model, however, it was hard to decide what columns to keep or remove.**\n",
    "\n",
    "**To solve this problem, a method called get_baseline_linear() was created to keep repeating the regression with all combinations of columns to test the best combination.**\n"
   ]
  },
  {
   "cell_type": "code",
   "execution_count": 7,
   "metadata": {},
   "outputs": [
    {
     "name": "stderr",
     "output_type": "stream",
     "text": [
      "100%|██████████| 10/10 [00:04<00:00,  2.36it/s]\n"
     ]
    },
    {
     "name": "stdout",
     "output_type": "stream",
     "text": [
      "('season', 'yr', 'mnth', 'holiday', 'weekday', 'weathersit', 'temp', 'hum', 'windspeed', 'date') \t 0.8048849:\n",
      "\n"
     ]
    }
   ],
   "source": [
    "data.get_baseline_linear()"
   ]
  },
  {
   "cell_type": "markdown",
   "metadata": {},
   "source": [
    "**This result was much better than 0.77 that I got by selecting the columns manually**"
   ]
  },
  {
   "cell_type": "markdown",
   "metadata": {},
   "source": [
    "**It is interesting to see that temperature gives a little better result than temperature feeling in my first model I have removed the temperature and kept the feeling.**\n"
   ]
  },
  {
   "cell_type": "markdown",
   "metadata": {},
   "source": [
    "## Repeating the analysis for the file2 by hour"
   ]
  },
  {
   "cell_type": "code",
   "execution_count": 8,
   "metadata": {},
   "outputs": [],
   "source": [
    "data = Data(file2)"
   ]
  },
  {
   "cell_type": "code",
   "execution_count": 9,
   "metadata": {},
   "outputs": [
    {
     "name": "stderr",
     "output_type": "stream",
     "text": [
      "100%|██████████| 11/11 [00:32<00:00,  3.00s/it]\n"
     ]
    },
    {
     "name": "stdout",
     "output_type": "stream",
     "text": [
      "('season', 'yr', 'hr', 'holiday', 'weekday', 'workingday', 'temp', 'atemp', 'hum', 'windspeed', 'date') \t -0.5754012:\n",
      "\n"
     ]
    }
   ],
   "source": [
    "data.get_baseline_linear()"
   ]
  },
  {
   "cell_type": "markdown",
   "metadata": {},
   "source": [
    "### Ops! Seems that a simple regression is not enough to approximate this data. A more complex linear model can be used to approximated the data."
   ]
  },
  {
   "cell_type": "code",
   "execution_count": 10,
   "metadata": {},
   "outputs": [],
   "source": [
    "#Importing libraries\n",
    "import torch\n",
    "import torch.nn as nn\n",
    "import torch.optim as optim\n",
    "from torch.utils.data import Dataset, DataLoader"
   ]
  },
  {
   "cell_type": "markdown",
   "metadata": {},
   "source": [
    "**Load file**"
   ]
  },
  {
   "cell_type": "code",
   "execution_count": 12,
   "metadata": {},
   "outputs": [],
   "source": [
    "#Load file 2\n",
    "data = Data(file2) \n",
    "#Split the data into train and validation as before\n",
    "X_train, X_test, y_train, y_test = data.split_data()"
   ]
  },
  {
   "cell_type": "markdown",
   "metadata": {},
   "source": [
    "**Create Dataset class**"
   ]
  },
  {
   "cell_type": "code",
   "execution_count": 13,
   "metadata": {},
   "outputs": [],
   "source": [
    "class RegressionData(Dataset):\n",
    "    ''' A class to return X and y to be used as Dataset to the pytorch dataloader'''\n",
    "    def __init__(self, X, y):\n",
    "        self.X = X\n",
    "        self.y = y\n",
    "    \n",
    "    def __len__(self):\n",
    "        return len(self.X)\n",
    "    \n",
    "    def __getitem__(self, idx):\n",
    "        return self.X[idx], self.y[idx]"
   ]
  },
  {
   "cell_type": "markdown",
   "metadata": {},
   "source": [
    "**Create dataloader, responsible to load data in batches**"
   ]
  },
  {
   "cell_type": "code",
   "execution_count": 14,
   "metadata": {},
   "outputs": [],
   "source": [
    "train_dataset = RegressionData(torch.from_numpy(X_train).float(), torch.from_numpy(y_train).float())\n",
    "val_dataset = RegressionData(torch.from_numpy(X_test).float(), torch.from_numpy(y_test).float())"
   ]
  },
  {
   "cell_type": "markdown",
   "metadata": {},
   "source": [
    "**Variables defined to improve the model output**"
   ]
  },
  {
   "cell_type": "code",
   "execution_count": 23,
   "metadata": {},
   "outputs": [],
   "source": [
    "# Values empirically decided to get the best regression model\n",
    "EPOCHS = 30\n",
    "BATCH_SIZE = 256\n",
    "LEARNING_RATE = 0.003\n",
    "NUM_FEATURES = X_train.shape[1]"
   ]
  },
  {
   "cell_type": "markdown",
   "metadata": {},
   "source": [
    "**Instantiate dataloaders**"
   ]
  },
  {
   "cell_type": "code",
   "execution_count": 24,
   "metadata": {},
   "outputs": [],
   "source": [
    "# Create train and val data loader\n",
    "train_loader = DataLoader(dataset=train_dataset, batch_size=BATCH_SIZE, shuffle=True)\n",
    "val_loader = DataLoader(dataset=val_dataset, batch_size=BATCH_SIZE)"
   ]
  },
  {
   "cell_type": "markdown",
   "metadata": {},
   "source": [
    "**Create the regression model**"
   ]
  },
  {
   "cell_type": "code",
   "execution_count": 25,
   "metadata": {},
   "outputs": [],
   "source": [
    "class Regression(nn.Module):\n",
    "    ''' Linear model created with:\n",
    "    input layer, layer2, layer3 and output layer all using Relu\n",
    "    as activation function.'''\n",
    "    def __init__(self, num_features):\n",
    "        super(Regression, self).__init__()\n",
    "        self.layer_1 = nn.Linear(num_features, 512)\n",
    "        self.layer_2 = nn.Linear(512, 1024)\n",
    "        self.layer_3 = nn.Linear(1024, 512)\n",
    "        self.layer_out = nn.Linear(512, 1)\n",
    "        \n",
    "        self.relu = nn.ReLU()\n",
    "    def forward(self, inputs):\n",
    "        x = self.relu(self.layer_1(inputs))\n",
    "        x = self.relu(self.layer_2(x))\n",
    "        x = self.relu(self.layer_3(x))\n",
    "        x = self.layer_out(x)\n",
    "        return (x)\n",
    "    \n",
    "    def predict(self, test_inputs):\n",
    "        x = self.relu(self.layer_1(test_inputs))\n",
    "        x = self.relu(self.layer_2(x))\n",
    "        x = self.relu(self.layer_3(x))\n",
    "        x = self.layer_out(x)\n",
    "        return (x)"
   ]
  },
  {
   "cell_type": "code",
   "execution_count": 26,
   "metadata": {},
   "outputs": [
    {
     "name": "stdout",
     "output_type": "stream",
     "text": [
      "torch.Size([256, 13])\ttorch.Size([256])\n"
     ]
    }
   ],
   "source": [
    "# Check shape of the data\n",
    "for i, (inputs, targets) in enumerate(train_loader):\n",
    "    print(f'{inputs.shape}\\t{targets.shape}')\n",
    "    break"
   ]
  },
  {
   "cell_type": "code",
   "execution_count": 27,
   "metadata": {},
   "outputs": [],
   "source": [
    "# Use torch on the CPU\n",
    "device = torch.device(\"cpu\")"
   ]
  },
  {
   "cell_type": "markdown",
   "metadata": {},
   "source": [
    "**Create the model**"
   ]
  },
  {
   "cell_type": "code",
   "execution_count": 28,
   "metadata": {},
   "outputs": [],
   "source": [
    "#Create model\n",
    "model = Regression(NUM_FEATURES)"
   ]
  },
  {
   "cell_type": "markdown",
   "metadata": {},
   "source": [
    "**Function that train and validate the model**\n",
    "\n",
    "This function loads data batch by batch and train the model, after training, gets the loss and update the weigths based on the learning rate. It also performs validation and calculates the metric (r2) so we can compare with the scikit-learn regression"
   ]
  },
  {
   "cell_type": "code",
   "execution_count": 29,
   "metadata": {},
   "outputs": [],
   "source": [
    "def train_model(EPOCHS, LEARNING_RATE):\n",
    "    ''' Function to train the model:\n",
    "    Inputs: EPOCHS: number of epochs to be trained\n",
    "    and LEARNING_RATE the learning rate of the model.\n",
    "    Outputs: Losses dict and r2 metric\n",
    "    '''\n",
    "    optimizer = optim.Adam(model.parameters(), lr=LEARNING_RATE)\n",
    "    criterion = nn.MSELoss()\n",
    "    metric = 0\n",
    "    loss_stats = {\n",
    "        'train': [],\n",
    "        \"val\": []\n",
    "    }\n",
    "    for epoch in range(0, EPOCHS):\n",
    "        train_epoch_loss = 0\n",
    "        metric = []\n",
    "        model.train()\n",
    "        #Training\n",
    "        for X_train, y_train in train_loader:\n",
    "            X_train, y_train = X_train.to(device), y_train.to(device)\n",
    "            optimizer.zero_grad()\n",
    "            y_pred = model(X_train)\n",
    "            loss = nn.MSELoss()\n",
    "            train_loss = loss(y_pred, y_train.unsqueeze(1))\n",
    "            train_loss.backward()\n",
    "            optimizer.step()\n",
    "            train_epoch_loss += train_loss.item()\n",
    "            \n",
    "            # Validation\n",
    "            with torch.no_grad():\n",
    "                val_epoch_loss = 0\n",
    "                model.eval()\n",
    "                for X_test, y_test in val_loader:\n",
    "                    X_test, y_test = X_test.to(device), y_test.to(device) \n",
    "                    y_test_pred = model(X_test)\n",
    "                    val_loss = torch.nn.MSELoss()(y_test_pred, y_test.unsqueeze(1))\n",
    "                    metric.append(r2_score(y_pred.detach(), y_train.unsqueeze(1).detach()))\n",
    "                    val_epoch_loss += val_loss.item()\n",
    "                    \n",
    "        loss_stats['train'].append(train_epoch_loss/len(train_loader))\n",
    "        loss_stats['val'].append(val_epoch_loss/len(val_loader)) \n",
    "        \n",
    "        if (epoch%int(EPOCHS/10))==0:\n",
    "            print(f'Epoch {epoch}: | Train Loss: {train_epoch_loss/len(train_loader):.2f} | Val Loss: {val_epoch_loss/len(val_loader):.2f}')\n",
    "            print(f'r2_val:{sum(metric)/len(metric):.2f}')\n",
    "    return loss_stats, metric"
   ]
  },
  {
   "cell_type": "markdown",
   "metadata": {},
   "source": [
    "**Training the model**"
   ]
  },
  {
   "cell_type": "code",
   "execution_count": 30,
   "metadata": {},
   "outputs": [
    {
     "name": "stdout",
     "output_type": "stream",
     "text": [
      "Epoch 0: | Train Loss: 29344.91 | Val Loss: 20700.46\n",
      "r2_val:-126933.37\n",
      "Epoch 6: | Train Loss: 11782.91 | Val Loss: 11244.74\n",
      "r2_val:0.43\n",
      "Epoch 12: | Train Loss: 8013.67 | Val Loss: 7320.41\n",
      "r2_val:0.67\n",
      "Epoch 18: | Train Loss: 6041.31 | Val Loss: 5610.41\n",
      "r2_val:0.77\n",
      "Epoch 24: | Train Loss: 4681.76 | Val Loss: 4250.42\n",
      "r2_val:0.83\n",
      "Epoch 30: | Train Loss: 4016.22 | Val Loss: 4123.99\n",
      "r2_val:0.86\n",
      "Epoch 36: | Train Loss: 3375.17 | Val Loss: 3621.80\n",
      "r2_val:0.88\n",
      "Epoch 42: | Train Loss: 3185.61 | Val Loss: 2814.35\n",
      "r2_val:0.89\n",
      "Epoch 48: | Train Loss: 2309.67 | Val Loss: 2622.55\n",
      "r2_val:0.92\n",
      "Epoch 54: | Train Loss: 2181.13 | Val Loss: 2748.81\n",
      "r2_val:0.93\n"
     ]
    }
   ],
   "source": [
    "stats, r2 = train_model(EPOCHS, LEARNING_RATE)"
   ]
  },
  {
   "cell_type": "code",
   "execution_count": 37,
   "metadata": {},
   "outputs": [],
   "source": [
    "def plot_val(stats, lr=LEARNING_RATE):\n",
    "    plt.plot(stats['train'], label='train')\n",
    "    plt.plot(stats['val'], label='validation')\n",
    "    plt.legend(loc='upper right', bbox_to_anchor=(0.98, 0.95))\n",
    "    plt.ylabel('MSE loss')\n",
    "    plt.xlabel('Number of epochs')\n",
    "    plt.title(f'Regression model (lr={lr})')\n",
    "    plt.show()\n",
    "    return None"
   ]
  },
  {
   "cell_type": "code",
   "execution_count": 38,
   "metadata": {},
   "outputs": [
    {
     "data": {
      "image/png": "[encoded data removed]",
      "text/plain": [
       "<Figure size 432x288 with 1 Axes>"
      ]
     },
     "metadata": {
      "needs_background": "light"
     },
     "output_type": "display_data"
    }
   ],
   "source": [
    "plot_val(stats, LEARNING_RATE)"
   ]
  },
  {
   "cell_type": "markdown",
   "metadata": {},
   "source": [
    "### This is a impressive result compared to the scikit-learn regression.\n"
   ]
  },
  {
   "cell_type": "code",
   "execution_count": 44,
   "metadata": {},
   "outputs": [
    {
     "data": {
      "image/png": "[encoded data removed]",
      "text/plain": [
       "<Figure size 432x288 with 1 Axes>"
      ]
     },
     "metadata": {
      "needs_background": "light"
     },
     "output_type": "display_data"
    }
   ],
   "source": [
    "plt.plot(r2)\n",
    "plt.ylabel('R2 coefficient of determination ')\n",
    "plt.xlabel('Single values from the last training epoch')\n",
    "plt.title(f'Last epoch R2. mean(r2)={sum(r2)/len(r2):.2f})')\n",
    "plt.show()"
   ]
  },
  {
   "cell_type": "markdown",
   "metadata": {},
   "source": [
    "**During the last training epoch the R2 scorevaried from .88 to .96** "
   ]
  },
  {
   "cell_type": "markdown",
   "metadata": {},
   "source": [
    "# Finally let's try this model to the first dataset (dailly)"
   ]
  },
  {
   "cell_type": "markdown",
   "metadata": {},
   "source": [
    "**All the classes and fucntions can be reused**"
   ]
  },
  {
   "cell_type": "code",
   "execution_count": 47,
   "metadata": {},
   "outputs": [],
   "source": [
    "#Load file 1\n",
    "data = Data(file1) \n",
    "#Split the data into train and validation as before\n",
    "X_train, X_test, y_train, y_test = data.split_data()\n",
    "\n",
    "train_dataset = RegressionData(torch.from_numpy(X_train).float(), torch.from_numpy(y_train).float())\n",
    "val_dataset = RegressionData(torch.from_numpy(X_test).float(), torch.from_numpy(y_test).float())\n",
    "# Create a new model\n",
    "model = Regression(NUM_FEATURES)"
   ]
  },
  {
   "cell_type": "markdown",
   "metadata": {},
   "source": [
    "**Lets start with the same values for epochs, batch size and learning rate**"
   ]
  },
  {
   "cell_type": "code",
   "execution_count": 49,
   "metadata": {},
   "outputs": [],
   "source": [
    "# Values empirically decided to get the best regression model\n",
    "EPOCHS = 30\n",
    "BATCH_SIZE = 256\n",
    "LEARNING_RATE = 0.003\n",
    "NUM_FEATURES = X_train.shape[1]"
   ]
  },
  {
   "cell_type": "markdown",
   "metadata": {},
   "source": [
    "**Train the model**"
   ]
  },
  {
   "cell_type": "code",
   "execution_count": 50,
   "metadata": {},
   "outputs": [
    {
     "name": "stdout",
     "output_type": "stream",
     "text": [
      "Epoch 0: | Train Loss: 28325.68 | Val Loss: 20709.53\n",
      "r2_val:-1384531.03\n",
      "Epoch 3: | Train Loss: 14422.14 | Val Loss: 13014.32\n",
      "r2_val:0.19\n",
      "Epoch 6: | Train Loss: 11929.36 | Val Loss: 10759.15\n",
      "r2_val:0.39\n",
      "Epoch 9: | Train Loss: 9663.91 | Val Loss: 9612.56\n",
      "r2_val:0.56\n",
      "Epoch 12: | Train Loss: 7335.46 | Val Loss: 7820.73\n",
      "r2_val:0.69\n",
      "Epoch 15: | Train Loss: 6629.46 | Val Loss: 7317.23\n",
      "r2_val:0.73\n",
      "Epoch 18: | Train Loss: 5712.82 | Val Loss: 6078.24\n",
      "r2_val:0.78\n",
      "Epoch 21: | Train Loss: 4610.89 | Val Loss: 4551.20\n",
      "r2_val:0.83\n",
      "Epoch 24: | Train Loss: 4108.96 | Val Loss: 4198.95\n",
      "r2_val:0.85\n",
      "Epoch 27: | Train Loss: 3790.12 | Val Loss: 3816.19\n",
      "r2_val:0.87\n"
     ]
    }
   ],
   "source": [
    "stats, r2 = train_model(EPOCHS, LEARNING_RATE)"
   ]
  },
  {
   "cell_type": "code",
   "execution_count": 51,
   "metadata": {},
   "outputs": [
    {
     "data": {
      "image/png": "[encoded data removed]",
      "text/plain": [
       "<Figure size 432x288 with 1 Axes>"
      ]
     },
     "metadata": {
      "needs_background": "light"
     },
     "output_type": "display_data"
    }
   ],
   "source": [
    "plot_val(stats, LEARNING_RATE)"
   ]
  },
  {
   "cell_type": "code",
   "execution_count": 52,
   "metadata": {},
   "outputs": [
    {
     "data": {
      "image/png": "[encoded data removed]",
      "text/plain": [
       "<Figure size 432x288 with 1 Axes>"
      ]
     },
     "metadata": {
      "needs_background": "light"
     },
     "output_type": "display_data"
    }
   ],
   "source": [
    "plt.plot(r2)\n",
    "plt.ylabel('R2 coefficient of determination ')\n",
    "plt.xlabel('Single values from the last training epoch')\n",
    "plt.title(f'Last epoch R2. mean(r2)={sum(r2)/len(r2):.2f})')\n",
    "plt.show()"
   ]
  },
  {
   "cell_type": "markdown",
   "metadata": {},
   "source": [
    "# Conclusion:\n",
    "\n",
    "### Simple regression was great for the simpler dataset but got quite far from the true in the same dataset but expanded by hours instead of days. The use of a more complex model helped to get better results on both datasets. However, the difference was enourmous on the more complex dataset.  The final conclusion is that the amount of bikes rented per day can be predicted with a good aproximation by using more complex linear models."
   ]
  },
  {
   "cell_type": "code",
   "execution_count": null,
   "metadata": {},
   "outputs": [],
   "source": []
  }
 ],
 "metadata": {
  "kernelspec": {
   "display_name": "Python 3",
   "language": "python",
   "name": "python3"
  },
  "language_info": {
   "codemirror_mode": {
    "name": "ipython",
    "version": 3
   },
   "file_extension": ".py",
   "mimetype": "text/x-python",
   "name": "python",
   "nbconvert_exporter": "python",
   "pygments_lexer": "ipython3",
   "version": "3.8.5"
  }
 },
 "nbformat": 4,
 "nbformat_minor": 4
}
